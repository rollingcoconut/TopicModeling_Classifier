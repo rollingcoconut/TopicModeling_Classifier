{
 "cells": [
  {
   "cell_type": "markdown",
   "metadata": {},
   "source": [
    "\n",
    "# Divison3: Classifying articles with Supervised Learning\n",
    "\n",
    "### OBJECTIVES: Build and evaluate privacy classifier for DB\n",
    "\n",
    "\n",
    "### ORGANIZATION: (files have only been added to Division1)\n",
    "* ./DATA \n",
    "    * prod_training.csv (articles for training set) \n",
    "    * pri_250_db.csv (articles from privacy db)\n",
    "    * _AGGREG (directory)\n",
    "    * _PP  (dir)\n",
    "    * _GOVT_SURV  (dir)\n",
    "    * _BLCKMLnRAN  (dir)\n",
    "    * _BREACH  (dir)\n",
    "    * _DC  (dir)\n",
    "    * _HARMFUL_TRTH  (dir)\n",
    "\n",
    "* ./CORPUSES\n",
    "* ./MODELS\n",
    "* requirements.txt\n",
    "* create_corpus.py\n",
    "* create_models.py\n",
    "\n",
    "### ATTRIBUTIONS\n",
    "The model training was based on gensim creator's online tutorials. Similar tutorials can be found at skikit-learn.org:\n",
    "    http://radimrehurek.com/data_science_python/\n",
    "  \n",
    "\n",
    "\n",
    "\n",
    "### TODO \n",
    "1. Refining/Further analyzing classifier results\n",
    "2. Dealing with issue of multilabel. http://scikit-learn.org/dev/modules/multiclass.html\n",
    "\n",
    "### NOTE On Classification Results\n",
    "\n",
    "The classifier does much better with the topics such as Breach, Harmful_TRTH, BlCKMLnRAN than it does with _AGGREG and _PP.\n",
    "\n",
    "I sometimes struggled trying to make distinctions between issues of aggregation and companies' explicit privacy policies, and it is reflected in the classifier results.\n",
    "\n"
   ]
  },
  {
   "cell_type": "markdown",
   "metadata": {},
   "source": [
    "# Understanding the Classifier  Labels\n",
    "The labels for the training set are rouhly based on Solove's classification, where privacy is categorized by its proximity to the owner.\n",
    "\n",
    "### Information Collection:\n",
    "* Gov't Surveillance [**GOVT_SURV**]\n",
    "\n",
    "* Other data collection [**DC**] ---> *like Google Street Cars*\n",
    "\n",
    "### Information Processing:\n",
    "\n",
    "* Aggregation (Combining data on a person) [**AGGREG**] ---> *this includes using data analytics to further\n",
    "profit on a person’s data*\n",
    "\n",
    "* Privacy Policy issues [**PP**]\n",
    "\n",
    "### Information Dissemination:\n",
    "* Exposure/ Disclosure --exposing truth that may be harmful [**HARMFUL_TRTH**]  ---> *think tyler clementi*\n",
    "\n",
    "* A data breach or hack  [**BREACH**]\n",
    "\n",
    "### Invasion:\n",
    "* Blackmail/Ransom [**BLCKMLnRAN**]\n",
    "\n",
    "*** What about articles that aren't privacy related at all! ***\n",
    "> KIM: When a label for spam was introduced, it significantly decreased cross-validation scores, and  was therefore omitted here."
   ]
  },
  {
   "cell_type": "markdown",
   "metadata": {},
   "source": [
    "# The Training Articles\n",
    "\n",
    "Aqcuired using bing scrape on keywords related to the labels above. \n",
    "The articles are located in **./DATA** and are characterized by labels. \n",
    "\n",
    "* **./DATA/_AGGREG** for  has 22 articles with the label  for **AGGREG** \n",
    "* **./DATA/_GOVT_SURV** for  has 44 articles \n",
    "* **./DATA/_DC** for  has 31 articles \n",
    "* **./DATA/_PP** for  has 18 articles \n",
    "* **./DATA/_HARMFUL_TRTH** for  has 9 articles \n",
    "* **./DATA/_BREACH** for  has 21 articles \n"
   ]
  },
  {
   "cell_type": "code",
   "execution_count": 1,
   "metadata": {
    "collapsed": true
   },
   "outputs": [],
   "source": [
    "%matplotlib inline\n",
    "import matplotlib.pyplot as plt\n",
    "import csv, sys,os\n",
    "from textblob import TextBlob\n",
    "import pandas\n",
    "import sklearn\n",
    "import _pickle as cPickle\n",
    "import numpy as np\n",
    "from sklearn.feature_extraction.text import CountVectorizer, TfidfTransformer\n",
    "from sklearn.naive_bayes import MultinomialNB\n",
    "from sklearn.svm import SVC, LinearSVC\n",
    "from sklearn.metrics import classification_report, f1_score, accuracy_score, confusion_matrix\n",
    "from sklearn.pipeline import Pipeline\n",
    "from sklearn.grid_search import GridSearchCV\n",
    "from sklearn.cross_validation import StratifiedKFold, cross_val_score, train_test_split \n",
    "from sklearn.tree import DecisionTreeClassifier \n",
    "from sklearn.learning_curve import learning_curve\n",
    "from gensim.parsing.preprocessing import STOPWORDS\n",
    "\n"
   ]
  },
  {
   "cell_type": "markdown",
   "metadata": {},
   "source": [
    "# Loading the Training Data\n",
    "\n",
    "Let's load the data into a pandas dataframe. All the training articles I used have been provided to you. If you want to update the training set, you'll need to make a new csv where every line has LABEL, TITLE, ARTICLE.\n",
    "\n",
    "**./DATA/prod_training.csv**  is  a .csv file for all the training articles, where each line is LABEL, TITLE, ARTICLE. \n",
    "\n",
    "    >ex line in prod_training.csv:\n",
    "    \n",
    "    _AGGREG, title_name, \"and the story continues without commas\", _PP, title2_name, \"and the story keeps going\"\n"
   ]
  },
  {
   "cell_type": "code",
   "execution_count": 2,
   "metadata": {
    "collapsed": false
   },
   "outputs": [
    {
     "data": {
      "text/html": [
       "<div>\n",
       "<table border=\"1\" class=\"dataframe\">\n",
       "  <thead>\n",
       "    <tr style=\"text-align: right;\">\n",
       "      <th></th>\n",
       "      <th></th>\n",
       "      <th>article</th>\n",
       "      <th>title</th>\n",
       "    </tr>\n",
       "    <tr>\n",
       "      <th>label</th>\n",
       "      <th></th>\n",
       "      <th></th>\n",
       "      <th></th>\n",
       "    </tr>\n",
       "  </thead>\n",
       "  <tbody>\n",
       "    <tr>\n",
       "      <th rowspan=\"4\" valign=\"top\">_AGGREG</th>\n",
       "      <th>count</th>\n",
       "      <td>17</td>\n",
       "      <td>17</td>\n",
       "    </tr>\n",
       "    <tr>\n",
       "      <th>unique</th>\n",
       "      <td>17</td>\n",
       "      <td>17</td>\n",
       "    </tr>\n",
       "    <tr>\n",
       "      <th>top</th>\n",
       "      <td>Photo\\n\\nMany economists see a data revolution...</td>\n",
       "      <td>Feb_28_1994_A_Push_for_Surveillance_Software.txt</td>\n",
       "    </tr>\n",
       "    <tr>\n",
       "      <th>freq</th>\n",
       "      <td>1</td>\n",
       "      <td>1</td>\n",
       "    </tr>\n",
       "    <tr>\n",
       "      <th rowspan=\"4\" valign=\"top\">_BLCKMLnRAN</th>\n",
       "      <th>count</th>\n",
       "      <td>12</td>\n",
       "      <td>12</td>\n",
       "    </tr>\n",
       "    <tr>\n",
       "      <th>unique</th>\n",
       "      <td>11</td>\n",
       "      <td>12</td>\n",
       "    </tr>\n",
       "    <tr>\n",
       "      <th>top</th>\n",
       "      <td>Thank you for your interest in licensing Fortu...</td>\n",
       "      <td>Aug_16_2016_Ransomware-as-a-service_allows_wan...</td>\n",
       "    </tr>\n",
       "    <tr>\n",
       "      <th>freq</th>\n",
       "      <td>2</td>\n",
       "      <td>1</td>\n",
       "    </tr>\n",
       "    <tr>\n",
       "      <th rowspan=\"4\" valign=\"top\">_BREACH</th>\n",
       "      <th>count</th>\n",
       "      <td>21</td>\n",
       "      <td>21</td>\n",
       "    </tr>\n",
       "    <tr>\n",
       "      <th>unique</th>\n",
       "      <td>21</td>\n",
       "      <td>21</td>\n",
       "    </tr>\n",
       "    <tr>\n",
       "      <th>top</th>\n",
       "      <td>SAN FRANCISCO — The RSA Security division of t...</td>\n",
       "      <td>Mar_14_2014_Daily_Report:_Target_Missed_Warnin...</td>\n",
       "    </tr>\n",
       "    <tr>\n",
       "      <th>freq</th>\n",
       "      <td>1</td>\n",
       "      <td>1</td>\n",
       "    </tr>\n",
       "    <tr>\n",
       "      <th rowspan=\"4\" valign=\"top\">_DC</th>\n",
       "      <th>count</th>\n",
       "      <td>31</td>\n",
       "      <td>31</td>\n",
       "    </tr>\n",
       "    <tr>\n",
       "      <th>unique</th>\n",
       "      <td>31</td>\n",
       "      <td>31</td>\n",
       "    </tr>\n",
       "    <tr>\n",
       "      <th>top</th>\n",
       "      <td>SAN FRANCISCO — Google’s harvesting of e-mails...</td>\n",
       "      <td>Jul_21_2012_Cellphone_Surveillance.txt</td>\n",
       "    </tr>\n",
       "    <tr>\n",
       "      <th>freq</th>\n",
       "      <td>1</td>\n",
       "      <td>1</td>\n",
       "    </tr>\n",
       "    <tr>\n",
       "      <th rowspan=\"4\" valign=\"top\">_GOVT_SURV</th>\n",
       "      <th>count</th>\n",
       "      <td>44</td>\n",
       "      <td>44</td>\n",
       "    </tr>\n",
       "    <tr>\n",
       "      <th>unique</th>\n",
       "      <td>44</td>\n",
       "      <td>44</td>\n",
       "    </tr>\n",
       "    <tr>\n",
       "      <th>top</th>\n",
       "      <td>The Foreign Intelligence Surveillance Court ha...</td>\n",
       "      <td>Mar_25_2014_Obama:_US_must_'win_back_the_trust...</td>\n",
       "    </tr>\n",
       "    <tr>\n",
       "      <th>freq</th>\n",
       "      <td>1</td>\n",
       "      <td>1</td>\n",
       "    </tr>\n",
       "    <tr>\n",
       "      <th rowspan=\"4\" valign=\"top\">_HARMFUL_TRTH</th>\n",
       "      <th>count</th>\n",
       "      <td>9</td>\n",
       "      <td>9</td>\n",
       "    </tr>\n",
       "    <tr>\n",
       "      <th>unique</th>\n",
       "      <td>9</td>\n",
       "      <td>9</td>\n",
       "    </tr>\n",
       "    <tr>\n",
       "      <th>top</th>\n",
       "      <td>Cyberbullying is a worse problem among teenage...</td>\n",
       "      <td>Sep_22_2015_One_in_five_young_people_has_suffe...</td>\n",
       "    </tr>\n",
       "    <tr>\n",
       "      <th>freq</th>\n",
       "      <td>1</td>\n",
       "      <td>1</td>\n",
       "    </tr>\n",
       "    <tr>\n",
       "      <th rowspan=\"4\" valign=\"top\">_PP</th>\n",
       "      <th>count</th>\n",
       "      <td>17</td>\n",
       "      <td>17</td>\n",
       "    </tr>\n",
       "    <tr>\n",
       "      <th>unique</th>\n",
       "      <td>16</td>\n",
       "      <td>17</td>\n",
       "    </tr>\n",
       "    <tr>\n",
       "      <th>top</th>\n",
       "      <td>Chat with us in Facebook Messenger. Find out w...</td>\n",
       "      <td>Jul_28_2016_Meet_the_Brave_Souls_Who_Read_Link...</td>\n",
       "    </tr>\n",
       "    <tr>\n",
       "      <th>freq</th>\n",
       "      <td>2</td>\n",
       "      <td>1</td>\n",
       "    </tr>\n",
       "  </tbody>\n",
       "</table>\n",
       "</div>"
      ],
      "text/plain": [
       "                                                                article  \\\n",
       "label                                                                     \n",
       "_AGGREG       count                                                  17   \n",
       "              unique                                                 17   \n",
       "              top     Photo\\n\\nMany economists see a data revolution...   \n",
       "              freq                                                    1   \n",
       "_BLCKMLnRAN   count                                                  12   \n",
       "              unique                                                 11   \n",
       "              top     Thank you for your interest in licensing Fortu...   \n",
       "              freq                                                    2   \n",
       "_BREACH       count                                                  21   \n",
       "              unique                                                 21   \n",
       "              top     SAN FRANCISCO — The RSA Security division of t...   \n",
       "              freq                                                    1   \n",
       "_DC           count                                                  31   \n",
       "              unique                                                 31   \n",
       "              top     SAN FRANCISCO — Google’s harvesting of e-mails...   \n",
       "              freq                                                    1   \n",
       "_GOVT_SURV    count                                                  44   \n",
       "              unique                                                 44   \n",
       "              top     The Foreign Intelligence Surveillance Court ha...   \n",
       "              freq                                                    1   \n",
       "_HARMFUL_TRTH count                                                   9   \n",
       "              unique                                                  9   \n",
       "              top     Cyberbullying is a worse problem among teenage...   \n",
       "              freq                                                    1   \n",
       "_PP           count                                                  17   \n",
       "              unique                                                 16   \n",
       "              top     Chat with us in Facebook Messenger. Find out w...   \n",
       "              freq                                                    2   \n",
       "\n",
       "                                                                  title  \n",
       "label                                                                    \n",
       "_AGGREG       count                                                  17  \n",
       "              unique                                                 17  \n",
       "              top      Feb_28_1994_A_Push_for_Surveillance_Software.txt  \n",
       "              freq                                                    1  \n",
       "_BLCKMLnRAN   count                                                  12  \n",
       "              unique                                                 12  \n",
       "              top     Aug_16_2016_Ransomware-as-a-service_allows_wan...  \n",
       "              freq                                                    1  \n",
       "_BREACH       count                                                  21  \n",
       "              unique                                                 21  \n",
       "              top     Mar_14_2014_Daily_Report:_Target_Missed_Warnin...  \n",
       "              freq                                                    1  \n",
       "_DC           count                                                  31  \n",
       "              unique                                                 31  \n",
       "              top                Jul_21_2012_Cellphone_Surveillance.txt  \n",
       "              freq                                                    1  \n",
       "_GOVT_SURV    count                                                  44  \n",
       "              unique                                                 44  \n",
       "              top     Mar_25_2014_Obama:_US_must_'win_back_the_trust...  \n",
       "              freq                                                    1  \n",
       "_HARMFUL_TRTH count                                                   9  \n",
       "              unique                                                  9  \n",
       "              top     Sep_22_2015_One_in_five_young_people_has_suffe...  \n",
       "              freq                                                    1  \n",
       "_PP           count                                                  17  \n",
       "              unique                                                 17  \n",
       "              top     Jul_28_2016_Meet_the_Brave_Souls_Who_Read_Link...  \n",
       "              freq                                                    1  "
      ]
     },
     "execution_count": 2,
     "metadata": {},
     "output_type": "execute_result"
    }
   ],
   "source": [
    "#..........................('./DATA/prod_training.csv).............\n",
    "articles = pandas.read_csv('/tmp/prod_training.csv', sep=',', names=[\"label\",\"title\",\"article\"])\n",
    "articles = articles.dropna()\n",
    "articles.groupby('label').describe()\n",
    "\n",
    "# NEED TO DEBUG WHY _AGGREG lists only 17 articels"
   ]
  },
  {
   "cell_type": "markdown",
   "metadata": {},
   "source": [
    "# Splittling the training set for cross-validation\n",
    "## An infrastructure for our classifier \n"
   ]
  },
  {
   "cell_type": "code",
   "execution_count": 35,
   "metadata": {
    "collapsed": false
   },
   "outputs": [],
   "source": [
    "from sklearn.datasets import make_multilabel_classification\n",
    "from sklearn.multiclass import OneVsRestClassifier\n",
    "from sklearn.svm import LinearSVC\n",
    "\n",
    "def split_into_tokens(message):\n",
    "    message = message.lower()\n",
    "    words = TextBlob(message).words\n",
    "    return [word.lemma for word in words]\n",
    " \n",
    "\n",
    "# Pipeline for predictor: bow --> tfidf --> apply classifier \n",
    "    # CountVectorizer: \"Convert a collection of text documents to a matrix of token counts\"(scikit-learn.org)\n",
    "    # Create training set with %90 percent of training article set; test on %10 percent\n",
    "art_train, art_test, label_train, label_test = \\\n",
    "    train_test_split(articles['article'], articles['label'], test_size=.1)\n",
    "\n",
    " \n",
    "# model infrastructure\n",
    "pipeline_svm = Pipeline([\n",
    "    ('bow', CountVectorizer(analyzer=split_into_tokens)),\n",
    "    ('tfidf', TfidfTransformer()),\n",
    "    ('classifier',  OneVsRestClassifier(LinearSVC()))  # <== This produced better results than SVC()\n",
    "])\n",
    "\n"
   ]
  },
  {
   "cell_type": "markdown",
   "metadata": {},
   "source": [
    "# Get cross validation score. \n",
    "## Train Classifier\n",
    "Using a pipeline is commonly  used for scikit-learn model creation. However I need to provide credit to the .ipynb cited above, as its example pipeline was adapted for this project. "
   ]
  },
  {
   "cell_type": "code",
   "execution_count": 36,
   "metadata": {
    "collapsed": false
   },
   "outputs": [
    {
     "data": {
      "text/plain": [
       "Pipeline(steps=[('bow', CountVectorizer(analyzer=<function split_into_tokens at 0xa59492fc>,\n",
       "        binary=False, decode_error='strict', dtype=<class 'numpy.int64'>,\n",
       "        encoding='utf-8', input='content', lowercase=True, max_df=1.0,\n",
       "        max_features=None, min_df=1, ngram_range=(1, 1), preprocessor=N...lti_class='ovr', penalty='l2', random_state=None, tol=0.0001,\n",
       "     verbose=0),\n",
       "          n_jobs=1))])"
      ]
     },
     "execution_count": 36,
     "metadata": {},
     "output_type": "execute_result"
    }
   ],
   "source": [
    "# Train classifier \n",
    "pipeline_svm.fit(art_train, label_train)"
   ]
  },
  {
   "cell_type": "code",
   "execution_count": 37,
   "metadata": {
    "collapsed": false
   },
   "outputs": [
    {
     "name": "stdout",
     "output_type": "stream",
     "text": [
      "[ 0.76666667  0.67857143  0.81481481  0.84        0.84      ]\n"
     ]
    }
   ],
   "source": [
    "# Get Cross Validation Scores\n",
    "scores = cross_val_score(pipeline_svm,  # \"steps to convert raw messages into models\"\n",
    "                         art_train,     # \"training data\"\n",
    "                         label_train,   # \"training labels\"\n",
    "                         cv=5,          #  \"split data randomly into 5 parts: 4 for training, 1 for scoring\"\n",
    "                         scoring='accuracy',  # \"which scoring metric?\"\n",
    "                         n_jobs=-1,     # \"-1 = use all cores = faster\"\n",
    "                         )\n",
    "print(scores)\n"
   ]
  },
  {
   "cell_type": "markdown",
   "metadata": {},
   "source": [
    "How much do our predictive powers increase as we increase our training base? \n"
   ]
  },
  {
   "cell_type": "code",
   "execution_count": 38,
   "metadata": {
    "collapsed": true
   },
   "outputs": [],
   "source": [
    "# KIM: the following function is almost ENTIRELY taken from the above cited tutorial\n",
    "#       it is a useful visualization\n",
    "\n",
    "def plot_learning_curve(estimator, title, X, y, ylim=None, cv=None,\n",
    "                        n_jobs=-1, train_sizes=np.linspace(.1, 1.0, 5)):\n",
    "    \"\"\"\n",
    "    Generate a simple plot of the test and traning learning curve.\n",
    "\n",
    "    Parameters\n",
    "    #\n",
    "    estimator : object type that implements the \"fit\" and \"predict\" methods\n",
    "        An object of that type which is cloned for each validation.\n",
    "\n",
    "    title : string\n",
    "        Title for the chart.\n",
    "\n",
    "    X : array-like, shape (n_samples, n_features)\n",
    "        Training vector, where n_samples is the number of samples and\n",
    "        n_features is the number of features.\n",
    "\n",
    "    y : array-like, shape (n_samples) or (n_samples, n_features), optional\n",
    "        Target relative to X for classification or regression;\n",
    "        None for unsupervised learning.\n",
    "\n",
    "    ylim : tuple, shape (ymin, ymax), optional\n",
    "        Defines minimum and maximum yvalues plotted.\n",
    "\n",
    "    cv : integer, cross-validation generator, optional\n",
    "        If an integer is passed, it is the number of folds (defaults to 3).\n",
    "        Specific cross-validation objects can be passed, see\n",
    "        sklearn.cross_validation module for the list of possible objects\n",
    "\n",
    "    n_jobs : integer, optional\n",
    "        Number of jobs to run in parallel (default 1).\n",
    "    \"\"\"\n",
    "    plt.figure()\n",
    "    plt.title(title)\n",
    "    if ylim is not None:\n",
    "        plt.ylim(*ylim)\n",
    "    plt.xlabel(\"Training examples\")\n",
    "    plt.ylabel(\"Score\")\n",
    "    train_sizes, train_scores, test_scores = learning_curve(\n",
    "        estimator, X, y, cv=cv, n_jobs=n_jobs, train_sizes=train_sizes)\n",
    "    train_scores_mean = np.mean(train_scores, axis=1)\n",
    "    train_scores_std = np.std(train_scores, axis=1)\n",
    "    test_scores_mean = np.mean(test_scores, axis=1)\n",
    "    test_scores_std = np.std(test_scores, axis=1)\n",
    "    plt.grid()\n",
    "\n",
    "    plt.fill_between(train_sizes, train_scores_mean - train_scores_std,\n",
    "                     train_scores_mean + train_scores_std, alpha=0.1,\n",
    "                     color=\"r\")\n",
    "    plt.fill_between(train_sizes, test_scores_mean - test_scores_std,\n",
    "                     test_scores_mean + test_scores_std, alpha=0.1, color=\"g\")\n",
    "    plt.plot(train_sizes, train_scores_mean, 'o-', color=\"r\",\n",
    "             label=\"Training score\")\n",
    "    plt.plot(train_sizes, test_scores_mean, 'o-', color=\"g\",\n",
    "             label=\"Cross-validation score\")\n",
    "\n",
    "    plt.legend(loc=\"best\")\n",
    "    return plt\n",
    "\n"
   ]
  },
  {
   "cell_type": "code",
   "execution_count": 40,
   "metadata": {
    "collapsed": false
   },
   "outputs": [
    {
     "name": "stdout",
     "output_type": "stream",
     "text": [
      "CPU times: user 320 ms, sys: 116 ms, total: 436 ms\n",
      "Wall time: 44.4 s\n"
     ]
    },
    {
     "data": {
      "text/plain": [
       "<module 'matplotlib.pyplot' from '/home/adi/.virtualenvs/scraper/lib/python3.4/site-packages/matplotlib/pyplot.py'>"
      ]
     },
     "execution_count": 40,
     "metadata": {},
     "output_type": "execute_result"
    },
    {
     "data": {
      "image/png": "[encoded data removed]",
      "text/plain": [
       "<matplotlib.figure.Figure at 0xa5c74c6c>"
      ]
     },
     "metadata": {},
     "output_type": "display_data"
    }
   ],
   "source": [
    "%time plot_learning_curve(pipeline_svm, \"accuracy vs. training set size\", art_train, label_train, cv=5)"
   ]
  },
  {
   "cell_type": "markdown",
   "metadata": {},
   "source": [
    "# Create an instance of our predictor"
   ]
  },
  {
   "cell_type": "code",
   "execution_count": 39,
   "metadata": {
    "collapsed": true
   },
   "outputs": [],
   "source": [
    "svm_detector = pipeline_svm\n"
   ]
  },
  {
   "cell_type": "markdown",
   "metadata": {},
   "source": [
    "# Predicting labels in the DB\n",
    "Let's finally predict labels for the article in our privacy database. "
   ]
  },
  {
   "cell_type": "code",
   "execution_count": 41,
   "metadata": {
    "collapsed": false,
    "scrolled": true
   },
   "outputs": [
    {
     "data": {
      "text/html": [
       "<div>\n",
       "<table border=\"1\" class=\"dataframe\">\n",
       "  <thead>\n",
       "    <tr style=\"text-align: right;\">\n",
       "      <th></th>\n",
       "      <th></th>\n",
       "      <th>article</th>\n",
       "      <th>title</th>\n",
       "    </tr>\n",
       "    <tr>\n",
       "      <th>predicted</th>\n",
       "      <th></th>\n",
       "      <th></th>\n",
       "      <th></th>\n",
       "    </tr>\n",
       "  </thead>\n",
       "  <tbody>\n",
       "    <tr>\n",
       "      <th rowspan=\"4\" valign=\"top\">_AGGREG</th>\n",
       "      <th>count</th>\n",
       "      <td>15</td>\n",
       "      <td>15</td>\n",
       "    </tr>\n",
       "    <tr>\n",
       "      <th>unique</th>\n",
       "      <td>15</td>\n",
       "      <td>15</td>\n",
       "    </tr>\n",
       "    <tr>\n",
       "      <th>top</th>\n",
       "      <td>Is Your Android Device Telling the World Where You've Been? | Electronic Frontier Foundation\\nIs...</td>\n",
       "      <td>orbitz uses the type of machine making the request.txt</td>\n",
       "    </tr>\n",
       "    <tr>\n",
       "      <th>freq</th>\n",
       "      <td>1</td>\n",
       "      <td>1</td>\n",
       "    </tr>\n",
       "    <tr>\n",
       "      <th rowspan=\"4\" valign=\"top\">_BLCKMLnRAN</th>\n",
       "      <th>count</th>\n",
       "      <td>2</td>\n",
       "      <td>2</td>\n",
       "    </tr>\n",
       "    <tr>\n",
       "      <th>unique</th>\n",
       "      <td>2</td>\n",
       "      <td>2</td>\n",
       "    </tr>\n",
       "    <tr>\n",
       "      <th>top</th>\n",
       "      <td>Comcast agrees to pay $33 million in California privacy breach - LA Times\\nGet unlimited digital...</td>\n",
       "      <td>hiv clinic accidentally disclosed 780 hiv patients.txt</td>\n",
       "    </tr>\n",
       "    <tr>\n",
       "      <th>freq</th>\n",
       "      <td>1</td>\n",
       "      <td>1</td>\n",
       "    </tr>\n",
       "    <tr>\n",
       "      <th rowspan=\"4\" valign=\"top\">_BREACH</th>\n",
       "      <th>count</th>\n",
       "      <td>27</td>\n",
       "      <td>27</td>\n",
       "    </tr>\n",
       "    <tr>\n",
       "      <th>unique</th>\n",
       "      <td>23</td>\n",
       "      <td>27</td>\n",
       "    </tr>\n",
       "    <tr>\n",
       "      <th>top</th>\n",
       "      <td>You probably heard about the Target data breach that put the credit-card numbers and personal in...</td>\n",
       "      <td>hacker compromises a database causing a pii leak f.txt</td>\n",
       "    </tr>\n",
       "    <tr>\n",
       "      <th>freq</th>\n",
       "      <td>5</td>\n",
       "      <td>1</td>\n",
       "    </tr>\n",
       "    <tr>\n",
       "      <th rowspan=\"4\" valign=\"top\">_DC</th>\n",
       "      <th>count</th>\n",
       "      <td>38</td>\n",
       "      <td>38</td>\n",
       "    </tr>\n",
       "    <tr>\n",
       "      <th>unique</th>\n",
       "      <td>29</td>\n",
       "      <td>38</td>\n",
       "    </tr>\n",
       "    <tr>\n",
       "      <th>top</th>\n",
       "      <td>\\n</td>\n",
       "      <td>kid-directed websites found to set more cookies th.txt</td>\n",
       "    </tr>\n",
       "    <tr>\n",
       "      <th>freq</th>\n",
       "      <td>8</td>\n",
       "      <td>1</td>\n",
       "    </tr>\n",
       "    <tr>\n",
       "      <th rowspan=\"4\" valign=\"top\">_GOVT_SURV</th>\n",
       "      <th>count</th>\n",
       "      <td>30</td>\n",
       "      <td>30</td>\n",
       "    </tr>\n",
       "    <tr>\n",
       "      <th>unique</th>\n",
       "      <td>29</td>\n",
       "      <td>30</td>\n",
       "    </tr>\n",
       "    <tr>\n",
       "      <th>top</th>\n",
       "      <td>Promise and Concern for Vast Social Services Database on Citys Neediest - The New York Times\\nNY...</td>\n",
       "      <td>edward snowden goes public with details of the nsa.txt</td>\n",
       "    </tr>\n",
       "    <tr>\n",
       "      <th>freq</th>\n",
       "      <td>2</td>\n",
       "      <td>1</td>\n",
       "    </tr>\n",
       "    <tr>\n",
       "      <th rowspan=\"4\" valign=\"top\">_HARMFUL_TRTH</th>\n",
       "      <th>count</th>\n",
       "      <td>16</td>\n",
       "      <td>16</td>\n",
       "    </tr>\n",
       "    <tr>\n",
       "      <th>unique</th>\n",
       "      <td>16</td>\n",
       "      <td>16</td>\n",
       "    </tr>\n",
       "    <tr>\n",
       "      <th>top</th>\n",
       "      <td>De-Friendly Fire: American University student makes Facebook rape accusation - The Sexist\\nD.C. ...</td>\n",
       "      <td>dorm mates of tyler clementi secretly video record.txt</td>\n",
       "    </tr>\n",
       "    <tr>\n",
       "      <th>freq</th>\n",
       "      <td>1</td>\n",
       "      <td>1</td>\n",
       "    </tr>\n",
       "    <tr>\n",
       "      <th rowspan=\"4\" valign=\"top\">_PP</th>\n",
       "      <th>count</th>\n",
       "      <td>59</td>\n",
       "      <td>59</td>\n",
       "    </tr>\n",
       "    <tr>\n",
       "      <th>unique</th>\n",
       "      <td>58</td>\n",
       "      <td>59</td>\n",
       "    </tr>\n",
       "    <tr>\n",
       "      <th>top</th>\n",
       "      <td>LinkedIn's iPhone App Sparks Latest Privacy Controversy Over Mobile Devices\\nLinkedIn's iPhone A...</td>\n",
       "      <td>google agreed to remove links regarding an old cri.txt</td>\n",
       "    </tr>\n",
       "    <tr>\n",
       "      <th>freq</th>\n",
       "      <td>2</td>\n",
       "      <td>1</td>\n",
       "    </tr>\n",
       "  </tbody>\n",
       "</table>\n",
       "</div>"
      ],
      "text/plain": [
       "                                                                                                                  article  \\\n",
       "predicted                                                                                                                   \n",
       "_AGGREG       count                                                                                                    15   \n",
       "              unique                                                                                                   15   \n",
       "              top     Is Your Android Device Telling the World Where You've Been? | Electronic Frontier Foundation\\nIs...   \n",
       "              freq                                                                                                      1   \n",
       "_BLCKMLnRAN   count                                                                                                     2   \n",
       "              unique                                                                                                    2   \n",
       "              top     Comcast agrees to pay $33 million in California privacy breach - LA Times\\nGet unlimited digital...   \n",
       "              freq                                                                                                      1   \n",
       "_BREACH       count                                                                                                    27   \n",
       "              unique                                                                                                   23   \n",
       "              top     You probably heard about the Target data breach that put the credit-card numbers and personal in...   \n",
       "              freq                                                                                                      5   \n",
       "_DC           count                                                                                                    38   \n",
       "              unique                                                                                                   29   \n",
       "              top                                                                                                      \\n   \n",
       "              freq                                                                                                      8   \n",
       "_GOVT_SURV    count                                                                                                    30   \n",
       "              unique                                                                                                   29   \n",
       "              top     Promise and Concern for Vast Social Services Database on Citys Neediest - The New York Times\\nNY...   \n",
       "              freq                                                                                                      2   \n",
       "_HARMFUL_TRTH count                                                                                                    16   \n",
       "              unique                                                                                                   16   \n",
       "              top     De-Friendly Fire: American University student makes Facebook rape accusation - The Sexist\\nD.C. ...   \n",
       "              freq                                                                                                      1   \n",
       "_PP           count                                                                                                    59   \n",
       "              unique                                                                                                   58   \n",
       "              top     LinkedIn's iPhone App Sparks Latest Privacy Controversy Over Mobile Devices\\nLinkedIn's iPhone A...   \n",
       "              freq                                                                                                      2   \n",
       "\n",
       "                                                                       title  \n",
       "predicted                                                                     \n",
       "_AGGREG       count                                                       15  \n",
       "              unique                                                      15  \n",
       "              top     orbitz uses the type of machine making the request.txt  \n",
       "              freq                                                         1  \n",
       "_BLCKMLnRAN   count                                                        2  \n",
       "              unique                                                       2  \n",
       "              top     hiv clinic accidentally disclosed 780 hiv patients.txt  \n",
       "              freq                                                         1  \n",
       "_BREACH       count                                                       27  \n",
       "              unique                                                      27  \n",
       "              top     hacker compromises a database causing a pii leak f.txt  \n",
       "              freq                                                         1  \n",
       "_DC           count                                                       38  \n",
       "              unique                                                      38  \n",
       "              top     kid-directed websites found to set more cookies th.txt  \n",
       "              freq                                                         1  \n",
       "_GOVT_SURV    count                                                       30  \n",
       "              unique                                                      30  \n",
       "              top     edward snowden goes public with details of the nsa.txt  \n",
       "              freq                                                         1  \n",
       "_HARMFUL_TRTH count                                                       16  \n",
       "              unique                                                      16  \n",
       "              top     dorm mates of tyler clementi secretly video record.txt  \n",
       "              freq                                                         1  \n",
       "_PP           count                                                       59  \n",
       "              unique                                                      59  \n",
       "              top     google agreed to remove links regarding an old cri.txt  \n",
       "              freq                                                         1  "
      ]
     },
     "execution_count": 41,
     "metadata": {},
     "output_type": "execute_result"
    }
   ],
   "source": [
    "# cp ./DATA/pri_250_db.csv /tmp/pri_250_db.csv\n",
    "articlesDB = pandas.read_csv('/tmp/pri_250_db.csv', sep=',', names=[\"title\",\"article\"])\n",
    "articlesDB['predicted'] = svm_detector.predict(articlesDB['article'])\n",
    "pandas.options.display.max_colwidth = 100\n",
    "articlesDB.groupby('predicted').describe()\n"
   ]
  },
  {
   "cell_type": "markdown",
   "metadata": {},
   "source": [
    "# Visualize Results"
   ]
  },
  {
   "cell_type": "code",
   "execution_count": 42,
   "metadata": {
    "collapsed": false,
    "scrolled": false
   },
   "outputs": [
    {
     "data": {
      "text/plain": [
       "<matplotlib.text.Text at 0xa58e386c>"
      ]
     },
     "execution_count": 42,
     "metadata": {},
     "output_type": "execute_result"
    },
    {
     "data": {
      "image/png": "[encoded data removed]",
      "text/plain": [
       "<matplotlib.figure.Figure at 0xa5c2e3ec>"
      ]
     },
     "metadata": {},
     "output_type": "display_data"
    }
   ],
   "source": [
    "articlesDB['predicted'].value_counts().plot(kind='bar',width=1.0).set_title(\"Predicted Privacy types of articles in DB\")"
   ]
  },
  {
   "cell_type": "code",
   "execution_count": 43,
   "metadata": {
    "collapsed": false
   },
   "outputs": [
    {
     "data": {
      "text/plain": [
       "pri_250_db    adultfriendfinder website hacked, pii accessed, at.txt\n",
       "pri_250_db       hackers accessed pii of 102m playstation users..txt\n",
       "pri_250_db    breach of epsilon data exposes names and email add.txt\n",
       "pri_250_db    global information services group experian was att.txt\n",
       "pri_250_db                 50m living social records compromised.txt\n",
       "pri_250_db    security breach leasks credit card numbers, as wel.txt\n",
       "pri_250_db           nude snapchat images put online by hackers..txt\n",
       "pri_250_db    56m payment cards compromised by malware infected .txt\n",
       "pri_250_db    military bases are using ssns as identifiers in a .txt\n",
       "pri_250_db    healthfirst, is notifying approximately 5300 affec.txt\n",
       "pri_250_db    130m credit and debit cards stored by heartland pa.txt\n",
       "pri_250_db    hacker accesses records of 15m t-mobile customers .txt\n",
       "pri_250_db    blippy, a social media service that facilitates sh.txt\n",
       "pri_250_db              data breach at tampa general hospital.\\n.txt\n",
       "pri_250_db    southern phone company breaches customer privacy b.txt\n",
       "pri_250_db    hacker compromises a database causing a pii leak f.txt\n",
       "pri_250_db    46m records compromised at tjmaxx, homegoods, mars.txt\n",
       "pri_250_db    50m evernote accounts compromised, email addresses.txt\n",
       "pri_250_db    sony pictures hack releases lots of sensitive data.txt\n",
       "pri_250_db     leak of neiman marcus shopper pii due to malware..txt\n",
       "pri_250_db    names and diagnosis codes for 20k stanford hospita.txt\n",
       "pri_250_db    security breach causes leak of snapchat photos, po.txt\n",
       "pri_250_db    whsmith accidentally emailed customer personal det.txt\n",
       "pri_250_db                        ashley madison website hacked..txt\n",
       "pri_250_db                    80m anthem patient records exposed.txt\n",
       "pri_250_db    security breach at at&t allowed the email addresse.txt\n",
       "pri_250_db    memorial hermann health system notifies patients o.txt\n",
       "Name: title, dtype: object"
      ]
     },
     "execution_count": 43,
     "metadata": {},
     "output_type": "execute_result"
    }
   ],
   "source": [
    "articlesDB[articlesDB.predicted==\"_BREACH\"]['title']"
   ]
  },
  {
   "cell_type": "code",
   "execution_count": 44,
   "metadata": {
    "collapsed": false
   },
   "outputs": [
    {
     "data": {
      "text/plain": [
       "pri_250_db    hiv clinic accidentally disclosed 780 hiv patients.txt\n",
       "pri_250_db    comcast exposed pii of customers who had paid to k.txt\n",
       "Name: title, dtype: object"
      ]
     },
     "execution_count": 44,
     "metadata": {},
     "output_type": "execute_result"
    }
   ],
   "source": [
    "articlesDB[articlesDB.predicted==\"_BLCKMLnRAN\"]['title']"
   ]
  },
  {
   "cell_type": "code",
   "execution_count": 45,
   "metadata": {
    "collapsed": false
   },
   "outputs": [
    {
     "data": {
      "text/plain": [
       "pri_250_db    callisto service allows victims of sexual assault .txt\n",
       "pri_250_db    high school student victim of sexual abuse outs pe.txt\n",
       "pri_250_db    english women posts revenge porn pictures on faceb.txt\n",
       "pri_250_db    high school student in saratoga, ca, was victim of.txt\n",
       "pri_250_db    a newspaper publishes sexual images of max mosley .txt\n",
       "pri_250_db    dorm mates of tyler clementi secretly video record.txt\n",
       "pri_250_db    google doodle contest asks for last 4 digits of ss.txt\n",
       "pri_250_db    us high school teacher forced to resign or be susp.txt\n",
       "pri_250_db    canadian teenager was raped and rapists distribute.txt\n",
       "pri_250_db    american university accused rapist outed on facebo.txt\n",
       "pri_250_db    blood test of mother of dead newborn used to convi.txt\n",
       "pri_250_db    target uses purchases to infer pregnancy, promotes.txt\n",
       "pri_250_db    former classmate buys amy boyer's ssn and employer.txt\n",
       "pri_250_db    drone spotted near a school raises privacy and saf.txt\n",
       "pri_250_db    user misunderstanding of facebook wall functionali.txt\n",
       "pri_250_db    photos of naked adolescents (middle and high schoo.txt\n",
       "Name: title, dtype: object"
      ]
     },
     "execution_count": 45,
     "metadata": {},
     "output_type": "execute_result"
    }
   ],
   "source": [
    "articlesDB[articlesDB.predicted==\"_HARMFUL_TRTH\"]['title']"
   ]
  },
  {
   "cell_type": "code",
   "execution_count": 46,
   "metadata": {
    "collapsed": false
   },
   "outputs": [
    {
     "data": {
      "text/plain": [
       "pri_250_db    a database about needy nyc residents that aggregat.txt\n",
       "pri_250_db    a start-up that makes it easier for employers to r.txt\n",
       "pri_250_db    judge orders twitter to give information about 3 a.txt\n",
       "pri_250_db    united arab emirates announces it will suspend bla.txt\n",
       "pri_250_db    new law requires companies to store data about rus.txt\n",
       "pri_250_db    same-sex marriage opponents protest requests to tu.txt\n",
       "pri_250_db    growth of mugshot sites, that use public records t.txt\n",
       "pri_250_db    police used text messages on victim's phone to cha.txt\n",
       "pri_250_db    the us supreme court upholds the practice of intru.txt\n",
       "pri_250_db    us pressures pakistan to provide more detailed inf.txt\n",
       "pri_250_db    netflix released data  of user movie ratings with .txt\n",
       "pri_250_db    emails of faculty and staff at harvard were search.txt\n",
       "pri_250_db    a us government employee accidentally sent a file .txt\n",
       "pri_250_db    topless sunbathing photos of kate middleton are pu.txt\n",
       "pri_250_db    a man was charged with 10 counts of murder based o.txt\n",
       "pri_250_db    4 cia officers were embedded in the nyc police dep.txt\n",
       "pri_250_db    the existence of a list of well-connected applican.txt\n",
       "pri_250_db    us office of personnel management hackers gain acc.txt\n",
       "pri_250_db    fbi agents are given more freedom to surveil and m.txt\n",
       "pri_250_db    harvard students facebook data gathered and shared.txt\n",
       "pri_250_db    a british legal ruling bars media outlets from pub.txt\n",
       "pri_250_db    request from obama administration to allow the fbi.txt\n",
       "pri_250_db    advertising code used by angry birds and other app.txt\n",
       "pri_250_db    a 16 year old girl was sexually assaulted by two s.txt\n",
       "pri_250_db    obama administration medical privacy rules denounc.txt\n",
       "pri_250_db    a duke student circulated a powerpoint presentatio.txt\n",
       "pri_250_db    teacher in training was denied her degree after sh.txt\n",
       "pri_250_db    lebanon, new hampshire library stops participating.txt\n",
       "pri_250_db    edward snowden goes public with details of the nsa.txt\n",
       "pri_250_db    court requires yelp to report identities of anonym.txt\n",
       "Name: title, dtype: object"
      ]
     },
     "execution_count": 46,
     "metadata": {},
     "output_type": "execute_result"
    }
   ],
   "source": [
    "articlesDB[articlesDB.predicted==\"_GOVT_SURV\"]['title']"
   ]
  },
  {
   "cell_type": "code",
   "execution_count": 47,
   "metadata": {
    "collapsed": false
   },
   "outputs": [
    {
     "data": {
      "text/plain": [
       "pri_250_db    orbitz uses the type of machine making the request.txt\n",
       "pri_250_db    call centers analyzing voice data for emotional st.txt\n",
       "pri_250_db    default privacy setting allows fitbit profiles to .txt\n",
       "pri_250_db    e-readers found to be collecting detailed data abo.txt\n",
       "pri_250_db    some android phones found to be broadcasting locat.txt\n",
       "pri_250_db    voter registration information exposed for 191m am.txt\n",
       "pri_250_db    audit by the state of north carolina of consumer p.txt\n",
       "pri_250_db    quora new feature displaying who has viewed a post.txt\n",
       "pri_250_db    adblock plus, an ad-blocking app, removed from the.txt\n",
       "pri_250_db    calls to understand insurance coverage appear to d.txt\n",
       "pri_250_db    script made available for determining ip address o.txt\n",
       "pri_250_db    linkedin defaults, confusing privacy wording in se.txt\n",
       "pri_250_db    new ability to email google+ contacts whose email .txt\n",
       "pri_250_db    increasing number of fraudsters posing as call cen.txt\n",
       "pri_250_db    ubuntu version automatically searches amazon in ad.txt\n",
       "Name: title, dtype: object"
      ]
     },
     "execution_count": 47,
     "metadata": {},
     "output_type": "execute_result"
    }
   ],
   "source": [
    "articlesDB[articlesDB.predicted==\"_AGGREG\"]['title']"
   ]
  },
  {
   "cell_type": "code",
   "execution_count": 48,
   "metadata": {
    "collapsed": false
   },
   "outputs": [
    {
     "data": {
      "text/plain": [
       "pri_250_db    call-center workers for at&t inc. leaked confident.txt\n",
       "pri_250_db    google search autocomplete links german prime mini.txt\n",
       "pri_250_db    predictive assistant introduced, google now, perce.txt\n",
       "pri_250_db    kid-directed websites found to set more cookies th.txt\n",
       "pri_250_db    european plans for a terrorist tracking system rai.txt\n",
       "pri_250_db    laptop with patient data stolen from northwestern .txt\n",
       "pri_250_db    several facebook apps (e.g. farmville) found to be.txt\n",
       "pri_250_db    iphones found to be storing user location data for.txt\n",
       "pri_250_db    some users of google talk and google hangout had c.txt\n",
       "pri_250_db    google streetview cars accidentally collected wifi.txt\n",
       "pri_250_db    instances of home surveillance footage showing mis.txt\n",
       "pri_250_db    awareness grows over volume of data collected by c.txt\n",
       "pri_250_db    google buzz exposed contacts of users who didn't c.txt\n",
       "pri_250_db    google play is discovered to share email addresses.txt\n",
       "pri_250_db    flash drive with employee data missing from easter.txt\n",
       "pri_250_db    france begins use of full body scanners at charles.txt\n",
       "pri_250_db    philadelphia school district remotely activated ca.txt\n",
       "pri_250_db    police departments are building dna databases of p.txt\n",
       "pri_250_db    google begins enforcing g+ real name policy and so.txt\n",
       "pri_250_db    fbi improperly gained access to calling records of.txt\n",
       "pri_250_db    touchstone medical imaging patient data accessible.txt\n",
       "pri_250_db    exif data used to infer the location of wanted per.txt\n",
       "pri_250_db    cloud storage debacle marks hospital's third priva.txt\n",
       "pri_250_db    new business selling artwork and notebooks contain.txt\n",
       "pri_250_db    ez-passes are discovered to be read at various non.txt\n",
       "pri_250_db    millions of user's email account, password, ip add.txt\n",
       "pri_250_db    bloomberg news reporters had extracted subscribers.txt\n",
       "pri_250_db    meritus medical center notifies patients of improp.txt\n",
       "pri_250_db    referrer sent to advertisers from several social n.txt\n",
       "pri_250_db    hackers steal information on 2.9 million adobe cus.txt\n",
       "pri_250_db    google, microsoft and yahoo believed to be retaini.txt\n",
       "pri_250_db    tens of millions of user name, id, account has bee.txt\n",
       "pri_250_db    explorer launch of google glass raises concerns ab.txt\n",
       "pri_250_db    apple mobile devices found to be storing locations.txt\n",
       "pri_250_db    amazon shows off prototype delivery drones on nati.txt\n",
       "pri_250_db    some germans dislike having photos of their homes .txt\n",
       "pri_250_db    google search autocomplete feature links a german .txt\n",
       "pri_250_db    four mclean hospital backup data tapes go missing,.txt\n",
       "Name: title, dtype: object"
      ]
     },
     "execution_count": 48,
     "metadata": {},
     "output_type": "execute_result"
    }
   ],
   "source": [
    "articlesDB[articlesDB.predicted==\"_DC\"]['title']"
   ]
  },
  {
   "cell_type": "code",
   "execution_count": 49,
   "metadata": {
    "collapsed": false
   },
   "outputs": [
    {
     "data": {
      "text/plain": [
       "pri_250_db    playdom amasssed and divulged pii of children who .txt\n",
       "pri_250_db    facebook releases \"signal\" a product that aggregat.txt\n",
       "pri_250_db    carefirst bluecross blueshield hacking incident; i.txt\n",
       "pri_250_db    consumers voice privacy concerns about online reta.txt\n",
       "pri_250_db    news of the world reporters found to be hacking vo.txt\n",
       "pri_250_db    in some cases, the facebook user id could be infer.txt\n",
       "pri_250_db    a google advertiser targeted users based on health.txt\n",
       "pri_250_db    microsoft reviews user emails as part of an invest.txt\n",
       "pri_250_db    facebook begins using face recognition to automati.txt\n",
       "pri_250_db    eli lilli accidentally discloses email addresses o.txt\n",
       "pri_250_db    disconnect mobile, an ad-blocking app, removed fro.txt\n",
       "pri_250_db    hulu sharing video watching histories, along with .txt\n",
       "pri_250_db    twitter changes \"block\" functionality to allow blo.txt\n",
       "pri_250_db    youtube comments begin requiring a google+ account.txt\n",
       "pri_250_db    research project finds that 67% of kis apps collec.txt\n",
       "pri_250_db    ftc finds that the chitika ad network is only resp.txt\n",
       "pri_250_db    growth of apps that use face recognition to determ.txt\n",
       "pri_250_db    aol instant messenger found to log chats perhaps i.txt\n",
       "pri_250_db    those who opt-in to linkedin calendar feature enab.txt\n",
       "pri_250_db    snapchat's claims of the ephemerality of snaps fou.txt\n",
       "pri_250_db    bug gives facebook users access to the chats of th.txt\n",
       "pri_250_db    a photo randi zuckerberg shared on facebook ends u.txt\n",
       "pri_250_db    verizon found to be injecting perma-cookies to tra.txt\n",
       "pri_250_db    privacy concerns about mattel's new recording barb.txt\n",
       "pri_250_db    concerns are raised about the profiling and target.txt\n",
       "pri_250_db    avg changes privacy policy to allow more data shar.txt\n",
       "pri_250_db    hundreds of ios apps found to be collecting pii us.txt\n",
       "pri_250_db    google agreed to remove links regarding an old cri.txt\n",
       "pri_250_db    \"girls around me\" app launches. makes available on.txt\n",
       "pri_250_db    phishing attack compromises partners healthcare 3,.txt\n",
       "pri_250_db    foursquare sharing check-ins regardless of user pr.txt\n",
       "pri_250_db    tracking cookie accidentally set by facebook; even.txt\n",
       "pri_250_db    vitalite health doctor accessed female patient fil.txt\n",
       "pri_250_db    toysmart accused by ftc of selling the personal in.txt\n",
       "pri_250_db    facebook changes privacy policy to require users t.txt\n",
       "pri_250_db    facebook begins using views of pages containing th.txt\n",
       "pri_250_db    google and various ad servers found to be circumve.txt\n",
       "pri_250_db    presidential candidate web sites found to often be.txt\n",
       "pri_250_db    spotify changed its privacy policy on 81915 to all.txt\n",
       "pri_250_db    nhs-accredited health apps found to be sending une.txt\n",
       "pri_250_db    new tool makes users aware of default geolocation .txt\n",
       "pri_250_db    it's discovered that microsoft scans skype message.txt\n",
       "pri_250_db    google begins allowing advertisers to target users.txt\n",
       "pri_250_db    fed by on-site cameras, new app scenetap summarize.txt\n",
       "pri_250_db    researchers discover surprising permissions reques.txt\n",
       "pri_250_db    bug causes private chats to be visible to the frie.txt\n",
       "pri_250_db    windows 10 update was pulled because it forgot cer.txt\n",
       "pri_250_db    unexpected linking of text to a google+ account ac.txt\n",
       "pri_250_db    data aggregator klout launches. as a data aggregat.txt\n",
       "pri_250_db    privacy concerns are raised about html 5 and everc.txt\n",
       "pri_250_db    appops feature that gave users some control over a.txt\n",
       "pri_250_db    ftc finds that 20% of 400 child-directed apps prov.txt\n",
       "pri_250_db    consumers voice concerns about flash cookies; some.txt\n",
       "pri_250_db    classdojo launched in 2011. privacy concerns aroun.txt\n",
       "pri_250_db    billions of password from netease mail box is leak.txt\n",
       "pri_250_db    users who visit the sites 2012 presidential candid.txt\n",
       "pri_250_db    path app found to be uploading contacts without pe.txt\n",
       "pri_250_db    etsy default settings make purchases, profiles, fe.txt\n",
       "pri_250_db    internet explorer changes default setting for do n.txt\n",
       "Name: title, dtype: object"
      ]
     },
     "execution_count": 49,
     "metadata": {},
     "output_type": "execute_result"
    }
   ],
   "source": [
    "articlesDB[articlesDB.predicted==\"_PP\"]['title']"
   ]
  }
 ],
 "metadata": {
  "kernelspec": {
   "display_name": "Python 3",
   "language": "python",
   "name": "python3"
  },
  "language_info": {
   "codemirror_mode": {
    "name": "ipython",
    "version": 3
   },
   "file_extension": ".py",
   "mimetype": "text/x-python",
   "name": "python",
   "nbconvert_exporter": "python",
   "pygments_lexer": "ipython3",
   "version": "3.4.3"
  }
 },
 "nbformat": 4,
 "nbformat_minor": 0
}
